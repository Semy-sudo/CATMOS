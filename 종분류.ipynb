{
 "cells": [
  {
   "cell_type": "code",
   "execution_count": 2,
   "metadata": {},
   "outputs": [
    {
     "name": "stdout",
     "output_type": "stream",
     "text": [
      "Bombay  파일 길이 :  499\n",
      "Bombay  :  ./catdateset/train/Bombay\\bombay001.jpg\n",
      "Persian  파일 길이 :  526\n",
      "Persian  :  ./catdateset/train/Persian\\persian (1).jpg\n",
      "Russianblue  파일 길이 :  2262\n",
      "Russianblue  :  ./catdateset/train/Russianblue\\Rusianblue(1).jpg\n",
      "Russianblue  :  ./catdateset/train/Russianblue\\Rusianblue(1629).jpg\n",
      "Russianblue  :  ./catdateset/train/Russianblue\\Rusianblue(2259).jpg\n",
      "Russianblue  :  ./catdateset/train/Russianblue\\Rusianblue(853).jpg\n",
      "Siberia  파일 길이 :  1562\n",
      "Siberia  :  ./catdateset/train/Siberia\\Siberia (100).jpg\n",
      "Siberia  :  ./catdateset/train/Siberia\\Siberia (216).jpg\n",
      "Siberia  :  ./catdateset/train/Siberia\\Siberia (852).jpg\n",
      "Sphynx  파일 길이 :  132\n",
      "Sphynx  :  ./catdateset/train/Sphynx\\Sphynx (1).jpg\n",
      "Sham  파일 길이 :  200\n",
      "Sham  :  ./catdateset/train/Sham\\siam (1).jpg\n",
      "ok 5181\n"
     ]
    }
   ],
   "source": [
    "from PIL import Image   ##python image library\n",
    "import os, glob, numpy as np  ## os,glob 운영체제 관리 numpy 수학적 표현\n",
    "from sklearn.model_selection import train_test_split  ##함수 전체 데이터셋을 받아 랜덤하게 훈련테스트 시키는 데이터 셋 분류\n",
    "\n",
    "caltech_dir = \"./catdateset/train\"\n",
    "categories = [\"Bombay\", \"Persian\", \"Russianblue\", \"Siberia\",\"Sphynx\",\"Sham\"]  ##카테고리 설정\n",
    "nb_classes = len(categories)\n",
    "\n",
    "image_w = 64   ##이미지 표현\n",
    "image_h = 64\n",
    "\n",
    "pixels = image_h * image_w * 3\n",
    "\n",
    "X = []\n",
    "y = []\n",
    "\n",
    "for idx, cat in enumerate(categories):\n",
    "    \n",
    "    \n",
    "    label = [0 for i in range(nb_classes)]\n",
    "    label[idx] = 1\n",
    "\n",
    "    image_dir = caltech_dir + \"/\" + cat\n",
    "    files = glob.glob(image_dir+\"/*.jpg\")\n",
    "    print(cat, \" 파일 길이 : \", len(files))   ##파일을 JPG->RGB\n",
    "    for i, f in enumerate(files):\n",
    "        img = Image.open(f)\n",
    "        img = img.convert(\"RGB\")\n",
    "        img = img.resize((image_w, image_h))\n",
    "        data = np.asarray(img)\n",
    "\n",
    "        X.append(data)   \n",
    "        y.append(label)\n",
    "\n",
    "        if i % 700 == 0:   ##???\n",
    "            print(cat, \" : \", f)\n",
    "\n",
    "X = np.array(X) ##배열 \n",
    "y = np.array(y)\n",
    "\n",
    "\n",
    "\n",
    "X_train, X_test, y_train, y_test = train_test_split(X, y)   ##그래프 표현을 위한 설정\n",
    "xy = (X_train, X_test, y_train, y_test)\n",
    "np.save(\"./numpy_data/m_image_data.npy\", xy)  \n",
    "\n",
    "print(\"ok\", len(y))\n"
   ]
  },
  {
   "cell_type": "markdown",
   "metadata": {},
   "source": [
    "이제 numpy 데이터를 불러온다. "
   ]
  },
  {
   "cell_type": "code",
   "execution_count": 3,
   "metadata": {
    "scrolled": true
   },
   "outputs": [
    {
     "name": "stderr",
     "output_type": "stream",
     "text": [
      "Using TensorFlow backend.\n"
     ]
    },
    {
     "name": "stdout",
     "output_type": "stream",
     "text": [
      "(3885, 64, 64, 3)\n",
      "[[0 0 0 0 0 1]\n",
      " [0 0 1 0 0 0]\n",
      " [1 0 0 0 0 0]\n",
      " [1 0 0 0 0 0]\n",
      " [0 0 1 0 0 0]\n",
      " [1 0 0 0 0 0]\n",
      " [0 0 0 1 0 0]\n",
      " [0 0 1 0 0 0]\n",
      " [0 1 0 0 0 0]\n",
      " [0 0 1 0 0 0]]\n",
      "(3885, 64, 64, 3)\n"
     ]
    }
   ],
   "source": [
    "import os, glob, numpy as np\n",
    "from keras.models import Sequential\n",
    "from keras.layers import Conv2D, MaxPooling2D, Dense, Flatten, Dropout\n",
    "from keras.callbacks import EarlyStopping, ModelCheckpoint\n",
    "import matplotlib.pyplot as plt\n",
    "import keras.backend.tensorflow_backend as K   \n",
    "\n",
    "import tensorflow as tf   #GPU 구현에 있어서 메모리를 절약해서 사용하기 위한 코드\n",
    "config = tf.compat.v1.ConfigProto()\n",
    "config.gpu_options.allow_growth = True\n",
    "session = tf.compat.v1.Session(config=config)\n",
    "\n",
    "X_train, X_test, y_train, y_test = np.load('./numpy_data/m_image_data.npy',allow_pickle=True)\n",
    "print(X_train.shape)\n",
    "print(y_train[:10])\n",
    "print(X_train.shape)"
   ]
  },
  {
   "cell_type": "code",
   "execution_count": 4,
   "metadata": {},
   "outputs": [],
   "source": [
    "categories = [\"Bombay\", \"Persian\", \"Russianblue\", \"Siberia\",\"Sphynx\",\"Sham\"]  ##카데고리 설정\n",
    "nb_classes = len(categories)\n",
    "\n",
    "#일반화 ##정규화를 통해서 폭의 크기를 줄여줍니다.\n",
    "X_train = X_train.astype(float) / 255\n",
    "X_test = X_test.astype(float) / 255"
   ]
  },
  {
   "cell_type": "code",
   "execution_count": 5,
   "metadata": {
    "scrolled": true
   },
   "outputs": [],
   "source": [
    "with K.tf_ops.device('/device:GPU:0'): #CNN 환경 구현 선형->비선형(합성 곱)->폴링 계층// #GPU:O  \n",
    "    model = Sequential()   ##선형계층\n",
    "    model.add(Conv2D(32, (3,3), padding=\"same\", input_shape=X_train.shape[1:], activation='relu'))##비선형\n",
    "    model.add(MaxPooling2D(pool_size=(2,2)))## 폴링 계층\n",
    "    model.add(Dropout(0.2)) ##에러율 감소를 위해 사용하는  훈련 함수   Dropout->1이 되어야한다.\n",
    "    \n",
    "    model.add(Conv2D(64, (3,3), padding=\"same\", activation='relu')) ##64개\n",
    "    model.add(MaxPooling2D(pool_size=(2,2)))\n",
    "    model.add(Dropout(0.2))\n",
    "    \n",
    "    model.add(Conv2D(128, (3,3), padding=\"same\", activation='relu'))  ##128개\n",
    "    model.add(MaxPooling2D(pool_size=(2,2)))\n",
    "    model.add(Dropout(0.2))\n",
    "    \n",
    "    model.add(Conv2D(256, (3,3), padding=\"same\", activation='relu'))  ##256개\n",
    "    model.add(MaxPooling2D(pool_size=(2,2)))\n",
    "    model.add(Dropout(0.2))\n",
    "    \n",
    "    model.add(Flatten())  ##다차원배열을  1차원으로 변경\n",
    "    model.add(Dense(512, activation='relu'))\n",
    "    model.add(Dropout(0.2))\n",
    "    model.add(Dense(nb_classes, activation='softmax')) ##soft max->0부터1사이의 출력값은 실수이며 출력의 총합을 1로 표현 확률을 표현할때 사용\n",
    "    model.compile(loss='categorical_crossentropy', optimizer='adam', metrics=['accuracy']) ##optimization ->딥러닝에서 학습속도를 빠르고 안정적이게 하는것  \n",
    "    model_dir = './model'\n",
    "    \n",
    "    if not os.path.exists(model_dir):\n",
    "        os.mkdir(model_dir)\n",
    "    \n",
    "    model_path = model_dir + '/multi_img_classification.model'\n",
    "    checkpoint = ModelCheckpoint(filepath=model_path , monitor='val_loss', verbose=1, save_best_only=True) ##keras 모델 체크포인트 save_best_only->정확도의 최고값을 갱신할때만 사용\n",
    "    early_stopping = EarlyStopping(monitor='val_loss', patience=6) ##학습 종료 patience 성능이 증가하지 않는 epoch를 몇번이나 허용할 것인가 정의\n",
    "    ##최적의 데이터를 학습하면 더이상 학습을 하지 않는다\n",
    "    "
   ]
  },
  {
   "cell_type": "code",
   "execution_count": 6,
   "metadata": {},
   "outputs": [
    {
     "name": "stdout",
     "output_type": "stream",
     "text": [
      "Model: \"sequential_1\"\n",
      "_________________________________________________________________\n",
      "Layer (type)                 Output Shape              Param #   \n",
      "=================================================================\n",
      "conv2d_1 (Conv2D)            (None, 64, 64, 32)        896       \n",
      "_________________________________________________________________\n",
      "max_pooling2d_1 (MaxPooling2 (None, 32, 32, 32)        0         \n",
      "_________________________________________________________________\n",
      "dropout_1 (Dropout)          (None, 32, 32, 32)        0         \n",
      "_________________________________________________________________\n",
      "conv2d_2 (Conv2D)            (None, 32, 32, 64)        18496     \n",
      "_________________________________________________________________\n",
      "max_pooling2d_2 (MaxPooling2 (None, 16, 16, 64)        0         \n",
      "_________________________________________________________________\n",
      "dropout_2 (Dropout)          (None, 16, 16, 64)        0         \n",
      "_________________________________________________________________\n",
      "conv2d_3 (Conv2D)            (None, 16, 16, 128)       73856     \n",
      "_________________________________________________________________\n",
      "max_pooling2d_3 (MaxPooling2 (None, 8, 8, 128)         0         \n",
      "_________________________________________________________________\n",
      "dropout_3 (Dropout)          (None, 8, 8, 128)         0         \n",
      "_________________________________________________________________\n",
      "conv2d_4 (Conv2D)            (None, 8, 8, 256)         295168    \n",
      "_________________________________________________________________\n",
      "max_pooling2d_4 (MaxPooling2 (None, 4, 4, 256)         0         \n",
      "_________________________________________________________________\n",
      "dropout_4 (Dropout)          (None, 4, 4, 256)         0         \n",
      "_________________________________________________________________\n",
      "flatten_1 (Flatten)          (None, 4096)              0         \n",
      "_________________________________________________________________\n",
      "dense_1 (Dense)              (None, 512)               2097664   \n",
      "_________________________________________________________________\n",
      "dropout_5 (Dropout)          (None, 512)               0         \n",
      "_________________________________________________________________\n",
      "dense_2 (Dense)              (None, 6)                 3078      \n",
      "=================================================================\n",
      "Total params: 2,489,158\n",
      "Trainable params: 2,489,158\n",
      "Non-trainable params: 0\n",
      "_________________________________________________________________\n"
     ]
    }
   ],
   "source": [
    "model.summary()"
   ]
  },
  {
   "cell_type": "code",
   "execution_count": 7,
   "metadata": {
    "scrolled": true
   },
   "outputs": [
    {
     "name": "stdout",
     "output_type": "stream",
     "text": [
      "Train on 3885 samples, validate on 1296 samples\n",
      "Epoch 1/50\n",
      "3885/3885 [==============================] - 67s 17ms/step - loss: 1.3978 - accuracy: 0.4358 - val_loss: 1.1180 - val_accuracy: 0.5509\n",
      "\n",
      "Epoch 00001: val_loss improved from inf to 1.11797, saving model to ./model/multi_img_classification.model\n",
      "Epoch 2/50\n",
      "3885/3885 [==============================] - 58s 15ms/step - loss: 0.9958 - accuracy: 0.6082 - val_loss: 0.9056 - val_accuracy: 0.6327\n",
      "\n",
      "Epoch 00002: val_loss improved from 1.11797 to 0.90560, saving model to ./model/multi_img_classification.model\n",
      "Epoch 3/50\n",
      "3885/3885 [==============================] - 58s 15ms/step - loss: 0.8162 - accuracy: 0.6947 - val_loss: 0.7866 - val_accuracy: 0.7369\n",
      "\n",
      "Epoch 00003: val_loss improved from 0.90560 to 0.78664, saving model to ./model/multi_img_classification.model\n",
      "Epoch 4/50\n",
      "3885/3885 [==============================] - 58s 15ms/step - loss: 0.6935 - accuracy: 0.7426 - val_loss: 0.7300 - val_accuracy: 0.7369\n",
      "\n",
      "Epoch 00004: val_loss improved from 0.78664 to 0.73004, saving model to ./model/multi_img_classification.model\n",
      "Epoch 5/50\n",
      "3885/3885 [==============================] - 58s 15ms/step - loss: 0.5936 - accuracy: 0.7861 - val_loss: 0.6459 - val_accuracy: 0.7948\n",
      "\n",
      "Epoch 00005: val_loss improved from 0.73004 to 0.64594, saving model to ./model/multi_img_classification.model\n",
      "Epoch 6/50\n",
      "3885/3885 [==============================] - 65s 17ms/step - loss: 0.5258 - accuracy: 0.8106 - val_loss: 0.5651 - val_accuracy: 0.8071\n",
      "\n",
      "Epoch 00006: val_loss improved from 0.64594 to 0.56507, saving model to ./model/multi_img_classification.model\n",
      "Epoch 7/50\n",
      "3885/3885 [==============================] - 64s 16ms/step - loss: 0.4248 - accuracy: 0.8420 - val_loss: 0.4881 - val_accuracy: 0.8318\n",
      "\n",
      "Epoch 00007: val_loss improved from 0.56507 to 0.48811, saving model to ./model/multi_img_classification.model\n",
      "Epoch 8/50\n",
      "3885/3885 [==============================] - 58s 15ms/step - loss: 0.3907 - accuracy: 0.8499 - val_loss: 0.4310 - val_accuracy: 0.8588\n",
      "\n",
      "Epoch 00008: val_loss improved from 0.48811 to 0.43100, saving model to ./model/multi_img_classification.model\n",
      "Epoch 9/50\n",
      "3885/3885 [==============================] - 60s 15ms/step - loss: 0.3069 - accuracy: 0.8885 - val_loss: 0.4320 - val_accuracy: 0.8796\n",
      "\n",
      "Epoch 00009: val_loss did not improve from 0.43100\n",
      "Epoch 10/50\n",
      "3885/3885 [==============================] - 58s 15ms/step - loss: 0.2653 - accuracy: 0.9017 - val_loss: 0.3769 - val_accuracy: 0.8812\n",
      "\n",
      "Epoch 00010: val_loss improved from 0.43100 to 0.37686, saving model to ./model/multi_img_classification.model\n",
      "Epoch 11/50\n",
      "3885/3885 [==============================] - 59s 15ms/step - loss: 0.2038 - accuracy: 0.9287 - val_loss: 0.3671 - val_accuracy: 0.8889\n",
      "\n",
      "Epoch 00011: val_loss improved from 0.37686 to 0.36707, saving model to ./model/multi_img_classification.model\n",
      "Epoch 12/50\n",
      "3885/3885 [==============================] - 59s 15ms/step - loss: 0.2067 - accuracy: 0.9228 - val_loss: 0.4247 - val_accuracy: 0.8673\n",
      "\n",
      "Epoch 00012: val_loss did not improve from 0.36707\n",
      "Epoch 13/50\n",
      "3885/3885 [==============================] - 58s 15ms/step - loss: 0.1618 - accuracy: 0.9452 - val_loss: 0.4090 - val_accuracy: 0.8835\n",
      "\n",
      "Epoch 00013: val_loss did not improve from 0.36707\n",
      "Epoch 14/50\n",
      "3885/3885 [==============================] - 58s 15ms/step - loss: 0.1364 - accuracy: 0.9539 - val_loss: 0.4344 - val_accuracy: 0.8927\n",
      "\n",
      "Epoch 00014: val_loss did not improve from 0.36707\n",
      "Epoch 15/50\n",
      "3885/3885 [==============================] - 61s 16ms/step - loss: 0.1329 - accuracy: 0.9529 - val_loss: 0.4250 - val_accuracy: 0.8796\n",
      "\n",
      "Epoch 00015: val_loss did not improve from 0.36707\n",
      "Epoch 16/50\n",
      "3885/3885 [==============================] - 58s 15ms/step - loss: 0.1011 - accuracy: 0.9642 - val_loss: 0.4434 - val_accuracy: 0.8981\n",
      "\n",
      "Epoch 00016: val_loss did not improve from 0.36707\n",
      "Epoch 17/50\n",
      "3885/3885 [==============================] - 61s 16ms/step - loss: 0.0979 - accuracy: 0.9673 - val_loss: 0.3918 - val_accuracy: 0.9097\n",
      "\n",
      "Epoch 00017: val_loss did not improve from 0.36707\n"
     ]
    }
   ],
   "source": [
    "\n",
    "#데이터셋이 적어서 validation을 그냥 test 데이터로 했습니다. \n",
    "#데이터셋이 충분하시면 이렇게 하시지 마시고 validation_split=0.2 이렇게 하셔서 테스트 셋으로 나누시길 권장합니다.\n",
    "history = model.fit(X_train, y_train, batch_size=32, epochs=50, validation_data=(X_test, y_test), callbacks=[checkpoint, early_stopping])\n",
    "##batch_size=numpy 데이터를 전달하면 모델을 작은 배치로 나누고 훈련과정에서 배치늘 순회 배치의 크기를 지정 \n",
    "##epochs=전체 입력데이터를 한번 순회하는 것\n",
    "##모델의 프로토타입을 만들때 검증데이터에서 간단한 선능을 모니터링"
   ]
  },
  {
   "cell_type": "code",
   "execution_count": 8,
   "metadata": {},
   "outputs": [
    {
     "name": "stdout",
     "output_type": "stream",
     "text": [
      "1296/1296 [==============================] - 5s 4ms/step\n",
      "정확도 : 0.9097\n"
     ]
    }
   ],
   "source": [
    "print(\"정확도 : %.4f\" % (model.evaluate(X_test, y_test)[1]))"
   ]
  },
  {
   "cell_type": "code",
   "execution_count": 9,
   "metadata": {},
   "outputs": [
    {
     "data": {
      "image/png": "[encoded data removed]",
      "text/plain": [
       "<Figure size 432x288 with 1 Axes>"
      ]
     },
     "metadata": {
      "needs_background": "light"
     },
     "output_type": "display_data"
    }
   ],
   "source": [
    "y_vloss = history.history['val_loss']\n",
    "y_loss = history.history['loss']\n",
    "\n",
    "x_len = np.arange(len(y_loss))\n",
    "\n",
    "plt.plot(x_len, y_vloss, marker='.', c='pink', label='val_set_loss')  ##데이터\n",
    "plt.plot(x_len, y_loss, marker='.', c='green', label='train_set_oss')##훈련\n",
    "plt.legend()\n",
    "plt.xlabel('epochs')\n",
    "plt.ylabel('loss')\n",
    "plt.grid()\n",
    "plt.show()"
   ]
  },
  {
   "cell_type": "code",
   "execution_count": 10,
   "metadata": {},
   "outputs": [
    {
     "data": {
      "image/png": "[encoded data removed]",
      "text/plain": [
       "<Figure size 432x288 with 1 Axes>"
      ]
     },
     "metadata": {
      "needs_background": "light"
     },
     "output_type": "display_data"
    }
   ],
   "source": [
    "y_vloss = history.history['val_loss']\n",
    "y_loss = history.history['loss']\n",
    "\n",
    "x_len = np.arange(len(y_loss))\n",
    "\n",
    "plt.plot(x_len, y_vloss, marker='.', c='orange', label='val_set_loss')\n",
    "plt.plot(x_len, y_loss, marker='.', c='black', label='train_set_oss')\n",
    "plt.legend()\n",
    "plt.xlabel('epochs')\n",
    "plt.ylabel('acc')\n",
    "plt.grid()\n",
    "plt.show()"
   ]
  },
  {
   "cell_type": "code",
   "execution_count": 11,
   "metadata": {
    "scrolled": false
   },
   "outputs": [
    {
     "name": "stdout",
     "output_type": "stream",
     "text": [
      "[1.000 0.000 0.000 0.000 0.000 0.000]\n",
      "0\n",
      "해당 1.jpg이미지는 Bombay로 추정됩니다.\n",
      "[0.000 0.000 0.000 0.000 0.000 1.000]\n",
      "5\n",
      "해당 2.jpg이미지는 Sham로 추정됩니다.\n",
      "[0.000 1.000 0.000 0.000 0.000 0.000]\n",
      "1\n",
      "해당 3.jpg이미지는 Persian으로 추정됩니다.\n",
      "[0.000 0.000 0.000 1.000 0.000 0.000]\n",
      "3\n",
      "해당 4.jpg이미지는 Siberia로 추정됩니다.\n",
      "[0.000 0.000 0.000 0.000 1.000 0.000]\n",
      "4\n",
      "해당 xcv.jpg이미지는 Sphynx로 추정됩니다.\n",
      "[0.000 0.000 0.000 1.000 0.000 0.000]\n",
      "3\n",
      "해당 다운로213드.jpg이미지는 Siberia로 추정됩니다.\n"
     ]
    }
   ],
   "source": [
    "from PIL import Image\n",
    "import os, glob, numpy as np\n",
    "from keras.models import load_model\n",
    "\n",
    "caltech_dir = \"./catdateset/train/image_others\"\n",
    "image_w = 64\n",
    "image_h = 64\n",
    "\n",
    "pixels = image_h * image_w * 3\n",
    "\n",
    "X = []\n",
    "filenames = []\n",
    "files = glob.glob(caltech_dir+\"/*.*\")\n",
    "for i, f in enumerate(files):\n",
    "    img = Image.open(f)\n",
    "    img = img.convert(\"RGB\")\n",
    "    img = img.resize((image_w, image_h))\n",
    "    data = np.asarray(img)\n",
    "    filenames.append(f)\n",
    "    X.append(data)\n",
    "\n",
    "X = np.array(X)\n",
    "model = load_model('./model/multi_img_classification.model')\n",
    "\n",
    "prediction = model.predict(X)\n",
    "np.set_printoptions(formatter={'float': lambda x: \"{0:0.3f}\".format(x)})\n",
    "cnt = 0\n",
    "\n",
    "#이 비교는 그냥 파일들이 있으면 해당 파일과 비교. 카테고리와 함께 비교해서 진행하는 것은 _4 파일.\n",
    "for i in prediction:\n",
    "    pre_ans = i.argmax()  # 예측 레이블\n",
    "    print(i)\n",
    "    print(pre_ans)\n",
    "    pre_ans_str = ''\n",
    "    if pre_ans == 0: pre_ans_str = \"Bombay\"\n",
    "    elif pre_ans == 1: pre_ans_str = \"Persian\"\n",
    "    elif pre_ans == 2: pre_ans_str = \"Russianblue\"\n",
    "    elif pre_ans == 3: pre_ans_str = \"Siberia\"\n",
    "    elif pre_ans == 4: pre_ans_str = \"Sphynx\"\n",
    "    else: pre_ans_str = \"Sham\"\n",
    "    if i[0] >= 0.8 : print(\"해당 \"+filenames[cnt].split(\"\\\\\")[1]+\"이미지는 \"+pre_ans_str+\"로 추정됩니다.\")\n",
    "    if i[1] >= 0.8 : print(\"해당 \"+filenames[cnt].split(\"\\\\\")[1]+\"이미지는 \"+pre_ans_str+\"으로 추정됩니다.\")\n",
    "    if i[2] >= 0.8 : print(\"해당 \"+filenames[cnt].split(\"\\\\\")[1]+\"이미지는 \"+pre_ans_str+\"로 추정됩니다.\")\n",
    "    if i[3] >= 0.8 : print(\"해당 \"+filenames[cnt].split(\"\\\\\")[1]+\"이미지는 \"+pre_ans_str+\"로 추정됩니다.\")\n",
    "    if i[4] >= 0.8 : print(\"해당 \"+filenames[cnt].split(\"\\\\\")[1]+\"이미지는 \"+pre_ans_str+\"로 추정됩니다.\")\n",
    "    if i[5] >= 0.8 : print(\"해당 \"+filenames[cnt].split(\"\\\\\")[1]+\"이미지는 \"+pre_ans_str+\"로 추정됩니다.\")                      \n",
    "    cnt += 1\n",
    "    # print(i.argmax()) #얘가 레이블 [1. 0. 0.] 이런식으로 되어 있는 것을 숫자로 바꿔주는 것.\n",
    "    # 즉 얘랑, 나중에 카테고리 데이터 불러와서 카테고리랑 비교를 해서 같으면 맞는거고, 아니면 틀린거로 취급하면 된다.\n",
    "    # 이걸 한 것은 _4.py에.\n"
   ]
  },
  {
   "cell_type": "markdown",
   "metadata": {},
   "source": []
  },
  {
   "cell_type": "code",
   "execution_count": null,
   "metadata": {},
   "outputs": [],
   "source": []
  }
 ],
 "metadata": {
  "kernelspec": {
   "display_name": "tensorflow",
   "language": "python",
   "name": "tensorflow"
  },
  "language_info": {
   "codemirror_mode": {
    "name": "ipython",
    "version": 3
   },
   "file_extension": ".py",
   "mimetype": "text/x-python",
   "name": "python",
   "nbconvert_exporter": "python",
   "pygments_lexer": "ipython3",
   "version": "3.6.10"
  }
 },
 "nbformat": 4,
 "nbformat_minor": 2
}
