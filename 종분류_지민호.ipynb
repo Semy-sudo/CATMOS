{
 "cells": [
  {
   "cell_type": "code",
   "execution_count": 2,
   "metadata": {},
   "outputs": [
    {
     "name": "stdout",
     "output_type": "stream",
     "text": [
      "Bombay  파일 길이 :  499\n",
      "Bombay  :  ./catdateset/train/Bombay\\bombay001.jpg\n",
      "Persian  파일 길이 :  526\n",
      "Persian  :  ./catdateset/train/Persian\\persian (1).jpg\n",
      "Russianblue  파일 길이 :  2262\n",
      "Russianblue  :  ./catdateset/train/Russianblue\\Rusianblue(1).jpg\n",
      "Russianblue  :  ./catdateset/train/Russianblue\\Rusianblue(1629).jpg\n",
      "Russianblue  :  ./catdateset/train/Russianblue\\Rusianblue(2259).jpg\n",
      "Russianblue  :  ./catdateset/train/Russianblue\\Rusianblue(853).jpg\n",
      "Siberia  파일 길이 :  1562\n",
      "Siberia  :  ./catdateset/train/Siberia\\Siberia (100).jpg\n",
      "Siberia  :  ./catdateset/train/Siberia\\Siberia (216).jpg\n",
      "Siberia  :  ./catdateset/train/Siberia\\Siberia (852).jpg\n",
      "ok 4849\n"
     ]
    }
   ],
   "source": [
    "from PIL import Image\n",
    "import os, glob, numpy as np\n",
    "from sklearn.model_selection import train_test_split\n",
    "\n",
    "caltech_dir = \"./catdateset/train\"\n",
    "categories = [\"Bombay\", \"Persian\", \"Russianblue\", \"Siberia\"]\n",
    "nb_classes = len(categories)\n",
    "\n",
    "image_w = 64\n",
    "image_h = 64\n",
    "\n",
    "pixels = image_h * image_w * 3\n",
    "\n",
    "X = []\n",
    "y = []\n",
    "\n",
    "for idx, cat in enumerate(categories):\n",
    "    \n",
    "    .\n",
    "    label = [0 for i in range(nb_classes)]\n",
    "    label[idx] = 1\n",
    "\n",
    "    image_dir = caltech_dir + \"/\" + cat\n",
    "    files = glob.glob(image_dir+\"/*.jpg\")\n",
    "    print(cat, \" 파일 길이 : \", len(files))\n",
    "    for i, f in enumerate(files):\n",
    "        img = Image.open(f)\n",
    "        img = img.convert(\"RGB\")\n",
    "        img = img.resize((image_w, image_h))\n",
    "        data = np.asarray(img)\n",
    "\n",
    "        X.append(data)\n",
    "        y.append(label)\n",
    "\n",
    "        if i % 700 == 0:\n",
    "            print(cat, \" : \", f)\n",
    "\n",
    "X = np.array(X)\n",
    "y = np.array(y)\n",
    "\n",
    "\n",
    "\n",
    "X_train, X_test, y_train, y_test = train_test_split(X, y)\n",
    "xy = (X_train, X_test, y_train, y_test)\n",
    "np.save(\"./numpy_data/m_image_data.npy\", xy)\n",
    "\n",
    "print(\"ok\", len(y))\n"
   ]
  },
  {
   "cell_type": "markdown",
   "metadata": {},
   "source": [
    "이제 numpy 데이터를 불러온다. "
   ]
  },
  {
   "cell_type": "code",
   "execution_count": 3,
   "metadata": {
    "scrolled": true
   },
   "outputs": [
    {
     "name": "stderr",
     "output_type": "stream",
     "text": [
      "Using TensorFlow backend.\n"
     ]
    },
    {
     "name": "stdout",
     "output_type": "stream",
     "text": [
      "(3636, 64, 64, 3)\n",
      "3636\n"
     ]
    }
   ],
   "source": [
    "import os, glob, numpy as np\n",
    "from keras.models import Sequential\n",
    "from keras.layers import Conv2D, MaxPooling2D, Dense, Flatten, Dropout\n",
    "from keras.callbacks import EarlyStopping, ModelCheckpoint\n",
    "import matplotlib.pyplot as plt\n",
    "import keras.backend.tensorflow_backend as K\n",
    "\n",
    "import tensorflow as tf\n",
    "config = tf.compat.v1.ConfigProto()\n",
    "config.gpu_options.allow_growth = True\n",
    "session = tf.compat.v1.Session(config=config)\n",
    "\n",
    "X_train, X_test, y_train, y_test = np.load('./numpy_data/m_image_data.npy',allow_pickle=True)\n",
    "print(X_train.shape)\n",
    "print(X_train.shape[0])"
   ]
  },
  {
   "cell_type": "code",
   "execution_count": 4,
   "metadata": {},
   "outputs": [],
   "source": [
    "categories = [\"Bombay\", \"Persian\", \"Russianblue\", \"Siberia\"]\n",
    "nb_classes = len(categories)\n",
    "\n",
    "#일반화\n",
    "X_train = X_train.astype(float) / 255\n",
    "X_test = X_test.astype(float) / 255"
   ]
  },
  {
   "cell_type": "code",
   "execution_count": 5,
   "metadata": {
    "scrolled": true
   },
   "outputs": [],
   "source": [
    "with K.tf_ops.device('/device:GPU:0'):\n",
    "    model = Sequential()\n",
    "    model.add(Conv2D(32, (3,3), padding=\"same\", input_shape=X_train.shape[1:], activation='relu'))\n",
    "    model.add(MaxPooling2D(pool_size=(2,2)))\n",
    "    model.add(Dropout(0.25))\n",
    "    \n",
    "    model.add(Conv2D(64, (3,3), padding=\"same\", activation='relu'))\n",
    "    model.add(MaxPooling2D(pool_size=(2,2)))\n",
    "    model.add(Dropout(0.25))\n",
    "    \n",
    "    model.add(Flatten())\n",
    "    model.add(Dense(256, activation='relu'))\n",
    "    model.add(Dropout(0.5))\n",
    "    model.add(Dense(nb_classes, activation='softmax'))\n",
    "    model.compile(loss='categorical_crossentropy', optimizer='adam', metrics=['accuracy'])\n",
    "    model_dir = './model'\n",
    "    \n",
    "    if not os.path.exists(model_dir):\n",
    "        os.mkdir(model_dir)\n",
    "    \n",
    "    model_path = model_dir + '/multi_img_classification.model'\n",
    "    checkpoint = ModelCheckpoint(filepath=model_path , monitor='val_loss', verbose=1, save_best_only=True)\n",
    "    early_stopping = EarlyStopping(monitor='val_loss', patience=6)\n",
    "    \n",
    "    "
   ]
  },
  {
   "cell_type": "code",
   "execution_count": 6,
   "metadata": {},
   "outputs": [
    {
     "name": "stdout",
     "output_type": "stream",
     "text": [
      "Model: \"sequential_1\"\n",
      "_________________________________________________________________\n",
      "Layer (type)                 Output Shape              Param #   \n",
      "=================================================================\n",
      "conv2d_1 (Conv2D)            (None, 64, 64, 32)        896       \n",
      "_________________________________________________________________\n",
      "max_pooling2d_1 (MaxPooling2 (None, 32, 32, 32)        0         \n",
      "_________________________________________________________________\n",
      "dropout_1 (Dropout)          (None, 32, 32, 32)        0         \n",
      "_________________________________________________________________\n",
      "conv2d_2 (Conv2D)            (None, 32, 32, 64)        18496     \n",
      "_________________________________________________________________\n",
      "max_pooling2d_2 (MaxPooling2 (None, 16, 16, 64)        0         \n",
      "_________________________________________________________________\n",
      "dropout_2 (Dropout)          (None, 16, 16, 64)        0         \n",
      "_________________________________________________________________\n",
      "flatten_1 (Flatten)          (None, 16384)             0         \n",
      "_________________________________________________________________\n",
      "dense_1 (Dense)              (None, 256)               4194560   \n",
      "_________________________________________________________________\n",
      "dropout_3 (Dropout)          (None, 256)               0         \n",
      "_________________________________________________________________\n",
      "dense_2 (Dense)              (None, 4)                 1028      \n",
      "=================================================================\n",
      "Total params: 4,214,980\n",
      "Trainable params: 4,214,980\n",
      "Non-trainable params: 0\n",
      "_________________________________________________________________\n"
     ]
    }
   ],
   "source": [
    "model.summary()"
   ]
  },
  {
   "cell_type": "code",
   "execution_count": 7,
   "metadata": {},
   "outputs": [
    {
     "name": "stdout",
     "output_type": "stream",
     "text": [
      "Train on 3636 samples, validate on 1213 samples\n",
      "Epoch 1/50\n",
      "3636/3636 [==============================] - 50s 14ms/step - loss: 1.2927 - accuracy: 0.4697 - val_loss: 0.8382 - val_accuracy: 0.6430\n",
      "\n",
      "Epoch 00001: val_loss improved from inf to 0.83818, saving model to ./model/multi_img_classification.model\n",
      "Epoch 2/50\n",
      "3636/3636 [==============================] - 48s 13ms/step - loss: 0.7903 - accuracy: 0.6419 - val_loss: 0.6856 - val_accuracy: 0.6958\n",
      "\n",
      "Epoch 00002: val_loss improved from 0.83818 to 0.68563, saving model to ./model/multi_img_classification.model\n",
      "Epoch 3/50\n",
      "3636/3636 [==============================] - 47s 13ms/step - loss: 0.6678 - accuracy: 0.7118 - val_loss: 0.5598 - val_accuracy: 0.7824\n",
      "\n",
      "Epoch 00003: val_loss improved from 0.68563 to 0.55978, saving model to ./model/multi_img_classification.model\n",
      "Epoch 4/50\n",
      "3636/3636 [==============================] - 41s 11ms/step - loss: 0.5652 - accuracy: 0.7761 - val_loss: 0.4991 - val_accuracy: 0.8087\n",
      "\n",
      "Epoch 00004: val_loss improved from 0.55978 to 0.49915, saving model to ./model/multi_img_classification.model\n",
      "Epoch 5/50\n",
      "3636/3636 [==============================] - 44s 12ms/step - loss: 0.4866 - accuracy: 0.8105 - val_loss: 0.4244 - val_accuracy: 0.8392\n",
      "\n",
      "Epoch 00005: val_loss improved from 0.49915 to 0.42437, saving model to ./model/multi_img_classification.model\n",
      "Epoch 6/50\n",
      "3636/3636 [==============================] - 48s 13ms/step - loss: 0.4251 - accuracy: 0.8317 - val_loss: 0.4327 - val_accuracy: 0.8293\n",
      "\n",
      "Epoch 00006: val_loss did not improve from 0.42437\n",
      "Epoch 7/50\n",
      "3636/3636 [==============================] - 46s 13ms/step - loss: 0.3533 - accuracy: 0.8716 - val_loss: 0.3874 - val_accuracy: 0.8557\n",
      "\n",
      "Epoch 00007: val_loss improved from 0.42437 to 0.38741, saving model to ./model/multi_img_classification.model\n",
      "Epoch 8/50\n",
      "3636/3636 [==============================] - 44s 12ms/step - loss: 0.3264 - accuracy: 0.8779 - val_loss: 0.3665 - val_accuracy: 0.8656\n",
      "\n",
      "Epoch 00008: val_loss improved from 0.38741 to 0.36646, saving model to ./model/multi_img_classification.model\n",
      "Epoch 9/50\n",
      "3636/3636 [==============================] - 48s 13ms/step - loss: 0.2896 - accuracy: 0.8963 - val_loss: 0.3411 - val_accuracy: 0.8739\n",
      "\n",
      "Epoch 00009: val_loss improved from 0.36646 to 0.34111, saving model to ./model/multi_img_classification.model\n",
      "Epoch 10/50\n",
      "3636/3636 [==============================] - 53s 14ms/step - loss: 0.2605 - accuracy: 0.9013 - val_loss: 0.3029 - val_accuracy: 0.8961\n",
      "\n",
      "Epoch 00010: val_loss improved from 0.34111 to 0.30287, saving model to ./model/multi_img_classification.model\n",
      "Epoch 11/50\n",
      "3636/3636 [==============================] - 52s 14ms/step - loss: 0.2297 - accuracy: 0.9180 - val_loss: 0.3127 - val_accuracy: 0.8879\n",
      "\n",
      "Epoch 00011: val_loss did not improve from 0.30287\n",
      "Epoch 12/50\n",
      "3636/3636 [==============================] - 46s 13ms/step - loss: 0.2117 - accuracy: 0.9197 - val_loss: 0.3242 - val_accuracy: 0.8953\n",
      "\n",
      "Epoch 00012: val_loss did not improve from 0.30287\n",
      "Epoch 13/50\n",
      "3636/3636 [==============================] - 48s 13ms/step - loss: 0.1862 - accuracy: 0.9373 - val_loss: 0.2828 - val_accuracy: 0.9044\n",
      "\n",
      "Epoch 00013: val_loss improved from 0.30287 to 0.28280, saving model to ./model/multi_img_classification.model\n",
      "Epoch 14/50\n",
      "3636/3636 [==============================] - 47s 13ms/step - loss: 0.1813 - accuracy: 0.9343 - val_loss: 0.3046 - val_accuracy: 0.8871\n",
      "\n",
      "Epoch 00014: val_loss did not improve from 0.28280\n",
      "Epoch 15/50\n",
      "3636/3636 [==============================] - 44s 12ms/step - loss: 0.1642 - accuracy: 0.9387 - val_loss: 0.2899 - val_accuracy: 0.8978\n",
      "\n",
      "Epoch 00015: val_loss did not improve from 0.28280\n",
      "Epoch 16/50\n",
      "3636/3636 [==============================] - 45s 12ms/step - loss: 0.1424 - accuracy: 0.9453 - val_loss: 0.3129 - val_accuracy: 0.8895\n",
      "\n",
      "Epoch 00016: val_loss did not improve from 0.28280\n",
      "Epoch 17/50\n",
      "3636/3636 [==============================] - 45s 12ms/step - loss: 0.1097 - accuracy: 0.9585 - val_loss: 0.2571 - val_accuracy: 0.9134\n",
      "\n",
      "Epoch 00017: val_loss improved from 0.28280 to 0.25707, saving model to ./model/multi_img_classification.model\n",
      "Epoch 18/50\n",
      "3636/3636 [==============================] - 44s 12ms/step - loss: 0.1310 - accuracy: 0.9601 - val_loss: 0.2804 - val_accuracy: 0.9044\n",
      "\n",
      "Epoch 00018: val_loss did not improve from 0.25707\n",
      "Epoch 19/50\n",
      "3636/3636 [==============================] - 42s 12ms/step - loss: 0.1062 - accuracy: 0.9626 - val_loss: 0.2968 - val_accuracy: 0.9060\n",
      "\n",
      "Epoch 00019: val_loss did not improve from 0.25707\n",
      "Epoch 20/50\n",
      "3636/3636 [==============================] - 45s 12ms/step - loss: 0.0891 - accuracy: 0.9697 - val_loss: 0.2857 - val_accuracy: 0.9143\n",
      "\n",
      "Epoch 00020: val_loss did not improve from 0.25707\n",
      "Epoch 21/50\n",
      "3636/3636 [==============================] - 45s 12ms/step - loss: 0.1002 - accuracy: 0.9648 - val_loss: 0.2944 - val_accuracy: 0.9035\n",
      "\n",
      "Epoch 00021: val_loss did not improve from 0.25707\n",
      "Epoch 22/50\n",
      "3636/3636 [==============================] - 45s 12ms/step - loss: 0.1027 - accuracy: 0.9620 - val_loss: 0.2834 - val_accuracy: 0.9209\n",
      "\n",
      "Epoch 00022: val_loss did not improve from 0.25707\n",
      "Epoch 23/50\n",
      "3636/3636 [==============================] - 44s 12ms/step - loss: 0.0816 - accuracy: 0.9728 - val_loss: 0.2638 - val_accuracy: 0.9192\n",
      "\n",
      "Epoch 00023: val_loss did not improve from 0.25707\n"
     ]
    }
   ],
   "source": [
    "\n",
    "#데이터셋이 적어서 validation을 그냥 test 데이터로 했습니다. \n",
    "#데이터셋이 충분하시면 이렇게 하시지 마시고 validation_split=0.2 이렇게 하셔서 테스트 셋으로 나누시길 권장합니다.\n",
    "history = model.fit(X_train, y_train, batch_size=32, epochs=50, validation_data=(X_test, y_test), callbacks=[checkpoint, early_stopping])"
   ]
  },
  {
   "cell_type": "code",
   "execution_count": 8,
   "metadata": {},
   "outputs": [
    {
     "name": "stdout",
     "output_type": "stream",
     "text": [
      "1213/1213 [==============================] - 3s 3ms/step\n",
      "정확도 : 0.9192\n"
     ]
    }
   ],
   "source": [
    "print(\"정확도 : %.4f\" % (model.evaluate(X_test, y_test)[1]))"
   ]
  },
  {
   "cell_type": "code",
   "execution_count": 9,
   "metadata": {},
   "outputs": [
    {
     "data": {
      "image/png": "[encoded data removed]",
      "text/plain": [
       "<Figure size 432x288 with 1 Axes>"
      ]
     },
     "metadata": {
      "needs_background": "light"
     },
     "output_type": "display_data"
    }
   ],
   "source": [
    "y_vloss = history.history['val_loss']\n",
    "y_loss = history.history['loss']\n",
    "\n",
    "x_len = np.arange(len(y_loss))\n",
    "\n",
    "plt.plot(x_len, y_vloss, marker='.', c='red', label='val_set_loss')\n",
    "plt.plot(x_len, y_loss, marker='.', c='blue', label='train_set_oss')\n",
    "plt.legend()\n",
    "plt.xlabel('epochs')\n",
    "plt.ylabel('loss')\n",
    "plt.grid()\n",
    "plt.show()"
   ]
  },
  {
   "cell_type": "code",
   "execution_count": 10,
   "metadata": {},
   "outputs": [
    {
     "name": "stdout",
     "output_type": "stream",
     "text": [
      "[0.000 0.000 0.000 1.000]\n",
      "3\n",
      "해당 10.jpg이미지는 Siberia로 추정됩니다.\n",
      "[0.000 0.000 1.000 0.000]\n",
      "2\n",
      "해당 11.jpg이미지는 Russianblue로 추정됩니다.\n",
      "[0.000 0.000 1.000 0.000]\n",
      "2\n",
      "해당 5.jpg이미지는 Russianblue로 추정됩니다.\n",
      "[0.000 0.000 0.000 1.000]\n",
      "3\n",
      "해당 6.jpg이미지는 Siberia로 추정됩니다.\n",
      "[0.000 0.000 0.000 1.000]\n",
      "3\n",
      "해당 7.jpg이미지는 Siberia로 추정됩니다.\n",
      "[0.000 0.000 1.000 0.000]\n",
      "2\n",
      "해당 75.jpg이미지는 Russianblue로 추정됩니다.\n",
      "[0.000 0.000 1.000 0.000]\n",
      "2\n",
      "해당 8.jpg이미지는 Russianblue로 추정됩니다.\n",
      "[0.000 0.000 0.000 1.000]\n",
      "3\n",
      "해당 80.jpg이미지는 Siberia로 추정됩니다.\n",
      "[0.000 0.000 0.000 1.000]\n",
      "3\n",
      "해당 81.jpg이미지는 Siberia로 추정됩니다.\n",
      "[0.000 0.000 0.000 1.000]\n",
      "3\n",
      "해당 82.jpg이미지는 Siberia로 추정됩니다.\n",
      "[0.000 0.000 0.000 1.000]\n",
      "3\n",
      "해당 84.jpg이미지는 Siberia로 추정됩니다.\n",
      "[0.000 0.000 0.000 1.000]\n",
      "3\n",
      "해당 89.jpg이미지는 Siberia로 추정됩니다.\n",
      "[0.000 0.000 1.000 0.000]\n",
      "2\n",
      "해당 9.jpg이미지는 Russianblue로 추정됩니다.\n"
     ]
    }
   ],
   "source": [
    "from PIL import Image\n",
    "import os, glob, numpy as np\n",
    "from keras.models import load_model\n",
    "\n",
    "caltech_dir = \"./catdateset/train/image_others\"\n",
    "image_w = 64\n",
    "image_h = 64\n",
    "\n",
    "pixels = image_h * image_w * 3\n",
    "\n",
    "X = []\n",
    "filenames = []\n",
    "files = glob.glob(caltech_dir+\"/*.*\")\n",
    "for i, f in enumerate(files):\n",
    "    img = Image.open(f)\n",
    "    img = img.convert(\"RGB\")\n",
    "    img = img.resize((image_w, image_h))\n",
    "    data = np.asarray(img)\n",
    "    filenames.append(f)\n",
    "    X.append(data)\n",
    "\n",
    "X = np.array(X)\n",
    "model = load_model('./model/multi_img_classification.model')\n",
    "\n",
    "prediction = model.predict(X)\n",
    "np.set_printoptions(formatter={'float': lambda x: \"{0:0.3f}\".format(x)})\n",
    "cnt = 0\n",
    "\n",
    "#이 비교는 그냥 파일들이 있으면 해당 파일과 비교. 카테고리와 함께 비교해서 진행하는 것은 _4 파일.\n",
    "for i in prediction:\n",
    "    pre_ans = i.argmax()  # 예측 레이블\n",
    "    print(i)\n",
    "    print(pre_ans)\n",
    "    pre_ans_str = ''\n",
    "    if pre_ans == 0: pre_ans_str = \"Bombay\"\n",
    "    elif pre_ans == 1: pre_ans_str = \"Persian\"\n",
    "    elif pre_ans == 2: pre_ans_str = \"Russianblue\"\n",
    "    else: pre_ans_str = \"Siberia\"\n",
    "    if i[0] >= 0.8 : print(\"해당 \"+filenames[cnt].split(\"\\\\\")[1]+\"이미지는 \"+pre_ans_str+\"로 추정됩니다.\")\n",
    "    if i[1] >= 0.8: print(\"해당 \"+filenames[cnt].split(\"\\\\\")[1]+\"이미지는 \"+pre_ans_str+\"으로 추정됩니다.\")\n",
    "    if i[2] >= 0.8: print(\"해당 \"+filenames[cnt].split(\"\\\\\")[1]+\"이미지는 \"+pre_ans_str+\"로 추정됩니다.\")\n",
    "    if i[3] >= 0.8: print(\"해당 \"+filenames[cnt].split(\"\\\\\")[1]+\"이미지는 \"+pre_ans_str+\"로 추정됩니다.\")\n",
    "    cnt += 1\n",
    "    # print(i.argmax()) #얘가 레이블 [1. 0. 0.] 이런식으로 되어 있는 것을 숫자로 바꿔주는 것.\n",
    "    # 즉 얘랑, 나중에 카테고리 데이터 불러와서 카테고리랑 비교를 해서 같으면 맞는거고, 아니면 틀린거로 취급하면 된다.\n",
    "    # 이걸 한 것은 _4.py에.\n"
   ]
  },
  {
   "cell_type": "markdown",
   "metadata": {},
   "source": []
  },
  {
   "cell_type": "code",
   "execution_count": null,
   "metadata": {},
   "outputs": [],
   "source": []
  }
 ],
 "metadata": {
  "kernelspec": {
   "display_name": "tensorflow",
   "language": "python",
   "name": "tensorflow"
  },
  "language_info": {
   "codemirror_mode": {
    "name": "ipython",
    "version": 3
   },
   "file_extension": ".py",
   "mimetype": "text/x-python",
   "name": "python",
   "nbconvert_exporter": "python",
   "pygments_lexer": "ipython3",
   "version": "3.6.10"
  }
 },
 "nbformat": 4,
 "nbformat_minor": 2
}
